{
 "cells": [
  {
   "cell_type": "markdown",
   "id": "9610177f",
   "metadata": {},
   "source": [
    "## Multiple Inheritance\n",
    "\n",
    "---\n",
    "\n",
    "Example that class `C` inherits from class `A` and `B`:"
   ]
  },
  {
   "cell_type": "code",
   "execution_count": 1,
   "id": "0001bb10",
   "metadata": {},
   "outputs": [],
   "source": [
    "class A:\n",
    "    def __init__(self):\n",
    "        super().__init__()\n",
    "        self.foo = \"foo\"\n",
    "        self.name = \"Class A\""
   ]
  },
  {
   "cell_type": "code",
   "execution_count": 2,
   "id": "7114a08d",
   "metadata": {},
   "outputs": [],
   "source": [
    "class B:\n",
    "    def __init__(self):\n",
    "        super().__init__()\n",
    "        self.bar = \"bar\"\n",
    "        self.name = \"Class B\""
   ]
  },
  {
   "cell_type": "code",
   "execution_count": 3,
   "id": "3fc74cdb",
   "metadata": {},
   "outputs": [],
   "source": [
    "class C(A, B):\n",
    "    def __init__(self):\n",
    "        super().__init__()\n",
    "        \n",
    "    def showprops(self):\n",
    "        print(self.foo)\n",
    "        print(self.bar)\n",
    "        print(self.name)"
   ]
  },
  {
   "cell_type": "code",
   "execution_count": 4,
   "id": "24ffa4a7",
   "metadata": {},
   "outputs": [
    {
     "name": "stdout",
     "output_type": "stream",
     "text": [
      "foo\n",
      "bar\n",
      "Class A\n"
     ]
    }
   ],
   "source": [
    "c = C()\n",
    "c.showprops()"
   ]
  }
 ],
 "metadata": {
  "kernelspec": {
   "display_name": "Python 3 (ipykernel)",
   "language": "python",
   "name": "python3"
  },
  "language_info": {
   "codemirror_mode": {
    "name": "ipython",
    "version": 3
   },
   "file_extension": ".py",
   "mimetype": "text/x-python",
   "name": "python",
   "nbconvert_exporter": "python",
   "pygments_lexer": "ipython3",
   "version": "3.10.4"
  }
 },
 "nbformat": 4,
 "nbformat_minor": 5
}
