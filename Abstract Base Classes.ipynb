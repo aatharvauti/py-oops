{
 "cells": [
  {
   "cell_type": "markdown",
   "id": "6789f5e0",
   "metadata": {},
   "source": [
    "## Abstract Base Classes\n",
    "\n",
    "---\n",
    "\n",
    "Sometimes you want to create a base class that defines a template for other classes to inherit from but:\n",
    "\n",
    "- You don't want consumers of base class to create instances of base class itself (it's just intended to be a blueprint)\n",
    "- You want to enforce a constraint that there are certain methods in the base class that subclass HAVE to implement\n",
    "\n",
    "Let's take an example that we're developing a drawing program that lets end user create different kinds of 2 dimensional shapes:"
   ]
  },
  {
   "cell_type": "markdown",
   "id": "e904b1a3",
   "metadata": {},
   "source": [
    "1. Define a base class `GraphicShape`"
   ]
  },
  {
   "cell_type": "code",
   "execution_count": 1,
   "id": "9dca5eb2",
   "metadata": {},
   "outputs": [],
   "source": [
    "class GraphicShape:\n",
    "    def __init__(self):\n",
    "        super().__init__()\n",
    "\n",
    "    def calcArea(self):\n",
    "        pass"
   ]
  },
  {
   "cell_type": "markdown",
   "id": "60fbd6ad",
   "metadata": {},
   "source": [
    "2. Then we have 2 subclasses `Circle` and `Square` that inherit from `GraphicShape`"
   ]
  },
  {
   "cell_type": "code",
   "execution_count": 2,
   "id": "5cb0980c",
   "metadata": {},
   "outputs": [],
   "source": [
    "class Circle(GraphicShape):\n",
    "    def __init__(self, radius):\n",
    "        self.radius = radius"
   ]
  },
  {
   "cell_type": "code",
   "execution_count": 3,
   "id": "7ac86cb8",
   "metadata": {},
   "outputs": [],
   "source": [
    "class Square(GraphicShape):\n",
    "    def __init__(self, side):\n",
    "        self.side = side"
   ]
  },
  {
   "cell_type": "code",
   "execution_count": 4,
   "id": "d4a7067d",
   "metadata": {},
   "outputs": [
    {
     "name": "stdout",
     "output_type": "stream",
     "text": [
      "None\n",
      "None\n"
     ]
    }
   ],
   "source": [
    "g = GraphicShape() # creates an instance of GraphicShape\n",
    "\n",
    "c = Circle(10)\n",
    "s = Square(5)\n",
    "\n",
    "print(c.calcArea()) # calculate area of c\n",
    "print(s.calcArea()) # calculate area of s\n",
    "\n",
    "# even though there is no calcArea in c and s"
   ]
  },
  {
   "cell_type": "markdown",
   "id": "6919af73",
   "metadata": {},
   "source": [
    "We can see that our code is not working as intended\n",
    "\n",
    "\n",
    "**TODO:**\n",
    "\n",
    "1. We want to prevent the class `GraphicShape` from being instantiated on its own\n",
    "2. Now we want to enforce that every shape MUST implement the `calcArea` function "
   ]
  },
  {
   "cell_type": "markdown",
   "id": "d49d8c8b",
   "metadata": {},
   "source": [
    "**Solution:**\n",
    "\n",
    "Use the `abc` module"
   ]
  },
  {
   "cell_type": "code",
   "execution_count": 5,
   "id": "ec238d47",
   "metadata": {},
   "outputs": [],
   "source": [
    "from abc import ABC, abstractmethod"
   ]
  },
  {
   "cell_type": "markdown",
   "id": "f0e10222",
   "metadata": {},
   "source": [
    "1. Have the `GraphicShape` inherit from the `ABC` or the abstract base class\n",
    "2. Use the `@abstractmethod` to enforce the function"
   ]
  },
  {
   "cell_type": "code",
   "execution_count": 6,
   "id": "a738f760",
   "metadata": {},
   "outputs": [],
   "source": [
    "class GraphicShape(ABC):\n",
    "    def __init__(self):\n",
    "        super().__init()\n",
    "        \n",
    "    @abstractmethod\n",
    "    def calcArea(self):\n",
    "        pass"
   ]
  },
  {
   "cell_type": "code",
   "execution_count": 7,
   "id": "6b0f21b9",
   "metadata": {},
   "outputs": [
    {
     "ename": "TypeError",
     "evalue": "Can't instantiate abstract class GraphicShape with abstract method calcArea",
     "output_type": "error",
     "traceback": [
      "\u001b[0;31m---------------------------------------------------------------------------\u001b[0m",
      "\u001b[0;31mTypeError\u001b[0m                                 Traceback (most recent call last)",
      "Input \u001b[0;32mIn [7]\u001b[0m, in \u001b[0;36m<cell line: 1>\u001b[0;34m()\u001b[0m\n\u001b[0;32m----> 1\u001b[0m g \u001b[38;5;241m=\u001b[39m \u001b[43mGraphicShape\u001b[49m\u001b[43m(\u001b[49m\u001b[43m)\u001b[49m\n",
      "\u001b[0;31mTypeError\u001b[0m: Can't instantiate abstract class GraphicShape with abstract method calcArea"
     ]
    }
   ],
   "source": [
    "g = GraphicShape() # creates an instance of GraphicShape"
   ]
  },
  {
   "cell_type": "markdown",
   "id": "0d68e38d",
   "metadata": {},
   "source": [
    "We can see that we cannot instantiate `GraphicShape`."
   ]
  },
  {
   "cell_type": "code",
   "execution_count": 8,
   "id": "c8140520",
   "metadata": {},
   "outputs": [],
   "source": [
    "class Circle(GraphicShape):\n",
    "    def __init__(self, radius):\n",
    "        self.radius = radius\n",
    "        \n",
    "    def calcArea(self):\n",
    "        return 3.14 * (self.radius ** 2)"
   ]
  },
  {
   "cell_type": "code",
   "execution_count": 9,
   "id": "2d37f2d6",
   "metadata": {},
   "outputs": [],
   "source": [
    "class Square(GraphicShape):\n",
    "    def __init__(self, side):\n",
    "        self.side = side\n",
    "        \n",
    "    def calcArea(self):\n",
    "        return self.side ** 2"
   ]
  },
  {
   "cell_type": "code",
   "execution_count": 10,
   "id": "85f0babd",
   "metadata": {},
   "outputs": [
    {
     "name": "stdout",
     "output_type": "stream",
     "text": [
      "314.0\n",
      "25\n"
     ]
    }
   ],
   "source": [
    "c = Circle(10)\n",
    "s = Square(5)\n",
    "\n",
    "print(c.calcArea()) # calculate area of c\n",
    "print(s.calcArea()) # calculate area of s"
   ]
  }
 ],
 "metadata": {
  "kernelspec": {
   "display_name": "Python 3 (ipykernel)",
   "language": "python",
   "name": "python3"
  },
  "language_info": {
   "codemirror_mode": {
    "name": "ipython",
    "version": 3
   },
   "file_extension": ".py",
   "mimetype": "text/x-python",
   "name": "python",
   "nbconvert_exporter": "python",
   "pygments_lexer": "ipython3",
   "version": "3.10.4"
  }
 },
 "nbformat": 4,
 "nbformat_minor": 5
}
