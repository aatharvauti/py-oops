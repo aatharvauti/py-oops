{
 "cells": [
  {
   "cell_type": "markdown",
   "id": "a9a03981",
   "metadata": {},
   "source": [
    "# Inheritance and Composition\n",
    "---\n",
    "\n",
    "### Understanding Inheritance\n",
    "\n",
    "Means by which a class can inherit capabilities from another.\n",
    "\n",
    "Let's take an example, we have 3 Classes which share some common properties:"
   ]
  },
  {
   "cell_type": "code",
   "execution_count": 1,
   "id": "bc5ce348",
   "metadata": {},
   "outputs": [],
   "source": [
    "class Book:\n",
    "    def __init__(self, title, author, pages, price):\n",
    "        self.title = title\n",
    "        self.price = price\n",
    "        self.author = author\n",
    "        self.pages = pages\n",
    "        \n",
    "\n",
    "class Magazine:\n",
    "    def __init__(self, title, publisher, period, price):\n",
    "        self.title = title\n",
    "        self.price = price\n",
    "        self.publisher = publisher\n",
    "        self.period = period\n",
    "\n",
    "\n",
    "class Newspaper:\n",
    "    def __init__(self, title, publisher, period, price):\n",
    "        self.title = title\n",
    "        self.price = price\n",
    "        self.publisher = publisher\n",
    "        self.period = period"
   ]
  },
  {
   "cell_type": "code",
   "execution_count": 2,
   "id": "8354476f",
   "metadata": {},
   "outputs": [
    {
     "name": "stdout",
     "output_type": "stream",
     "text": [
      "Sun Tzu\n",
      "Daily\n",
      "5.99\n"
     ]
    }
   ],
   "source": [
    "b1 = Book('The Art of War', 'Sun Tzu', 256, 15.99)\n",
    "n1 = Newspaper('The Times of India', 'The Times Group', 'Daily', 0.59)\n",
    "m1 = Magazine('Time', 'Dotdash Meredith', 'Twice Monthly', 5.99)\n",
    "\n",
    "print(b1.author)\n",
    "print(n1.period)\n",
    "print(m1.price)"
   ]
  },
  {
   "cell_type": "markdown",
   "id": "bb88b666",
   "metadata": {},
   "source": [
    "As we can see from the above example, we have 3 classes- `Book`, `Magazine`, and `Newspaper`.\n",
    "\n",
    "- All 3 of them share 2 common properties `title` and `price`\n",
    "- `Magazine` and `Newspaper` share all 4 properties in common\n",
    "\n",
    "So we use `super().__init__()` function to inherit those properties"
   ]
  },
  {
   "cell_type": "code",
   "execution_count": 3,
   "id": "c1e2fd74",
   "metadata": {},
   "outputs": [],
   "source": [
    "\n",
    "class Publication:\n",
    "    def __init__(self, title, price):\n",
    "        self.title = title\n",
    "        self.price = price\n",
    "\n",
    "        \n",
    "class Periodical(Publication):\n",
    "    def __init__(self, title, publisher, period, price):\n",
    "        super().__init__(title, price)  # inherits title and price from super class\n",
    "        self.publisher = publisher\n",
    "        self.period = period\n",
    "\n",
    "class Book(Publication):\n",
    "    def __init__(self, title, author, pages, price):\n",
    "        super().__init__(title, price)\n",
    "        self.author = author\n",
    "        self.pages = pages\n",
    "        \n",
    "\n",
    "class Magazine:\n",
    "    def __init__(self, title, publisher, period, price):\n",
    "        super().__init__(title, publisher, period, price)\n",
    "\n",
    "\n",
    "class Newspaper:\n",
    "    def __init__(self, title, publisher, period, price):\n",
    "        super().__init__(title, publisher, period, price)"
   ]
  },
  {
   "cell_type": "code",
   "execution_count": 4,
   "id": "dfc3c249",
   "metadata": {},
   "outputs": [
    {
     "name": "stdout",
     "output_type": "stream",
     "text": [
      "Sun Tzu\n",
      "Daily\n",
      "5.99\n"
     ]
    }
   ],
   "source": [
    "print(b1.author)\n",
    "print(n1.period)\n",
    "print(m1.price)"
   ]
  },
  {
   "cell_type": "markdown",
   "id": "86ee3f3b",
   "metadata": {},
   "source": [
    "Now we see that by using inheritance, we can inherit properties from the `super` class, which helps reduce our code and make it efficient."
   ]
  },
  {
   "cell_type": "markdown",
   "metadata": {},
   "source": [
    "### Abstract Base Classes\n",
    "\n",
    "Sometimes you want to create a base class that defines a template for other classes to inherit from but:\n",
    "\n",
    "- You don't want consumers of base class to create instances of base class itself (it's just intended to be a blueprint)\n",
    "- You want to enforce a constraint that there are certain methods in the base class that subclass HAVE to implement\n",
    "\n",
    "Let's take an example that we're developing a drawing program that lets end user create different kinds of 2 dimensional shapes:"
   ]
  },
  {
   "cell_type": "markdown",
   "metadata": {},
   "source": [
    "1. Define a base class `GraphicShape`"
   ]
  },
  {
   "cell_type": "code",
   "execution_count": 5,
   "metadata": {},
   "outputs": [],
   "source": [
    "class GraphicShape:\n",
    "    def __init__(self):\n",
    "        super().__init__()\n",
    "\n",
    "    def calcArea(self):\n",
    "        pass"
   ]
  },
  {
   "cell_type": "markdown",
   "metadata": {},
   "source": [
    "2. Then we have 2 subclasses `Circle` and `Square` that inherit from `GraphicShape`"
   ]
  },
  {
   "cell_type": "code",
   "execution_count": 6,
   "metadata": {},
   "outputs": [],
   "source": [
    "class Circle(GraphicShape):\n",
    "    def __init__(self, radius):\n",
    "        self.radius = radius"
   ]
  },
  {
   "cell_type": "code",
   "execution_count": 7,
   "metadata": {},
   "outputs": [],
   "source": [
    "class Square(GraphicShape):\n",
    "    def __init__(self, side):\n",
    "        self.side = side"
   ]
  },
  {
   "cell_type": "code",
   "execution_count": 8,
   "metadata": {},
   "outputs": [
    {
     "name": "stdout",
     "output_type": "stream",
     "text": [
      "None\n",
      "None\n"
     ]
    }
   ],
   "source": [
    "g = GraphicShape() # creates an instance of GraphicShape\n",
    "\n",
    "c = Circle(10)\n",
    "s = Square(5)\n",
    "\n",
    "print(c.calcArea()) # calculate area of c\n",
    "print(s.calcArea()) # calculate area of s\n",
    "\n",
    "# even though there is no calcArea in c and s"
   ]
  },
  {
   "cell_type": "markdown",
   "metadata": {},
   "source": [
    "We can see that our code is not working as intended\n",
    "\n",
    "\n",
    "**TODO:**\n",
    "\n",
    "1. We want to prevent the class `GraphicShape` from being instantiated on its own\n",
    "2. Now we want to enforce that every shape MUST implement the `calcArea` function "
   ]
  },
  {
   "cell_type": "markdown",
   "metadata": {},
   "source": [
    "**Solution:**\n",
    "\n",
    "Use the `abc` module"
   ]
  },
  {
   "cell_type": "code",
   "execution_count": 9,
   "metadata": {},
   "outputs": [],
   "source": [
    "from abc import ABC, abstractmethod"
   ]
  },
  {
   "cell_type": "markdown",
   "metadata": {},
   "source": [
    "1. Have the `GraphicShape` inherit from the `ABC` or the abstract base class\n",
    "2. Use the `@abstractmethod` to enforce the function"
   ]
  },
  {
   "cell_type": "code",
   "execution_count": 10,
   "metadata": {},
   "outputs": [],
   "source": [
    "class GraphicShape(ABC):\n",
    "    def __init__(self):\n",
    "        super().__init()\n",
    "        \n",
    "    @abstractmethod\n",
    "    def calcArea(self):\n",
    "        pass"
   ]
  },
  {
   "cell_type": "code",
   "execution_count": 11,
   "metadata": {},
   "outputs": [
    {
     "ename": "TypeError",
     "evalue": "Can't instantiate abstract class GraphicShape with abstract method calcArea",
     "output_type": "error",
     "traceback": [
      "\u001b[0;31m---------------------------------------------------------------------------\u001b[0m",
      "\u001b[0;31mTypeError\u001b[0m                                 Traceback (most recent call last)",
      "\u001b[0;32m<ipython-input-11-9e2cae97e1af>\u001b[0m in \u001b[0;36m<module>\u001b[0;34m\u001b[0m\n\u001b[0;32m----> 1\u001b[0;31m \u001b[0mg\u001b[0m \u001b[0;34m=\u001b[0m \u001b[0mGraphicShape\u001b[0m\u001b[0;34m(\u001b[0m\u001b[0;34m)\u001b[0m \u001b[0;31m# creates an instance of GraphicShape\u001b[0m\u001b[0;34m\u001b[0m\u001b[0;34m\u001b[0m\u001b[0m\n\u001b[0m",
      "\u001b[0;31mTypeError\u001b[0m: Can't instantiate abstract class GraphicShape with abstract method calcArea"
     ]
    }
   ],
   "source": [
    "g = GraphicShape() # creates an instance of GraphicShape"
   ]
  },
  {
   "cell_type": "markdown",
   "metadata": {},
   "source": [
    "We can see that we cannot instantiate `GraphicShape`."
   ]
  },
  {
   "cell_type": "code",
   "execution_count": 12,
   "metadata": {},
   "outputs": [],
   "source": [
    "class Circle(GraphicShape):\n",
    "    def __init__(self, radius):\n",
    "        self.radius = radius\n",
    "        \n",
    "    def calcArea(self):\n",
    "        return 3.14 * (self.radius ** 2)"
   ]
  },
  {
   "cell_type": "code",
   "execution_count": 13,
   "metadata": {},
   "outputs": [],
   "source": [
    "class Square(GraphicShape):\n",
    "    def __init__(self, side):\n",
    "        self.side = side\n",
    "        \n",
    "    def calcArea(self):\n",
    "        return self.side ** 2"
   ]
  },
  {
   "cell_type": "code",
   "execution_count": 14,
   "metadata": {},
   "outputs": [
    {
     "name": "stdout",
     "output_type": "stream",
     "text": [
      "314.0\n",
      "25\n"
     ]
    }
   ],
   "source": [
    "c = Circle(10)\n",
    "s = Square(5)\n",
    "\n",
    "print(c.calcArea()) # calculate area of c\n",
    "print(s.calcArea()) # calculate area of s"
   ]
  },
  {
   "cell_type": "markdown",
   "metadata": {},
   "source": [
    "### Multiple Inheritance\n",
    "\n",
    "Example that class `C` inherits from class `A` and `B`:"
   ]
  },
  {
   "cell_type": "code",
   "execution_count": 21,
   "metadata": {},
   "outputs": [],
   "source": [
    "class A:\n",
    "    def __init__(self):\n",
    "        super().__init__()\n",
    "        self.foo = \"foo\"\n",
    "        self.name = \"Class A\""
   ]
  },
  {
   "cell_type": "code",
   "execution_count": 25,
   "metadata": {},
   "outputs": [],
   "source": [
    "class B:\n",
    "    def __init__(self):\n",
    "        super().__init__()\n",
    "        self.bar = \"bar\"\n",
    "        self.name = \"Class B\""
   ]
  },
  {
   "cell_type": "code",
   "execution_count": 26,
   "metadata": {},
   "outputs": [],
   "source": [
    "class C(A, B):\n",
    "    def __init__(self):\n",
    "        super().__init__()\n",
    "        \n",
    "    def showprops(self):\n",
    "        print(self.foo)\n",
    "        print(self.bar)\n",
    "        print(self.name)"
   ]
  },
  {
   "cell_type": "code",
   "execution_count": 27,
   "metadata": {},
   "outputs": [
    {
     "name": "stdout",
     "output_type": "stream",
     "text": [
      "foo\n",
      "bar\n",
      "Class A\n"
     ]
    }
   ],
   "source": [
    "c = C()\n",
    "c.showprops()"
   ]
  },
  {
   "cell_type": "code",
   "execution_count": null,
   "metadata": {},
   "outputs": [],
   "source": []
  }
 ],
 "metadata": {
  "kernelspec": {
   "display_name": "Python 3 (ipykernel)",
   "language": "python",
   "name": "python3"
  },
  "language_info": {
   "codemirror_mode": {
    "name": "ipython",
    "version": 3
   },
   "file_extension": ".py",
   "mimetype": "text/x-python",
   "name": "python",
   "nbconvert_exporter": "python",
   "pygments_lexer": "ipython3",
   "version": "3.10.2"
  }
 },
 "nbformat": 4,
 "nbformat_minor": 5
}
