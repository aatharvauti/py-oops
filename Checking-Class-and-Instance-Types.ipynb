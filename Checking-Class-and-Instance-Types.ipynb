{
 "cells": [
  {
   "cell_type": "markdown",
   "id": "ddd0ee34",
   "metadata": {},
   "source": [
    "\n",
    "### Checking Class & Instance Types\n",
    "\n",
    "---\n",
    "\n",
    "To demonstrate this, we create 2 classes:"
   ]
  },
  {
   "cell_type": "code",
   "execution_count": 1,
   "id": "1324341e",
   "metadata": {},
   "outputs": [],
   "source": [
    "class Magazine:\n",
    "    def __init__(self):\n",
    "        pass\n",
    "    \n",
    "class Comic:\n",
    "    def __init__(self):\n",
    "        pass"
   ]
  },
  {
   "cell_type": "markdown",
   "id": "3f98585f",
   "metadata": {},
   "source": [
    "Let's create some instances of the classes:"
   ]
  },
  {
   "cell_type": "code",
   "execution_count": 2,
   "id": "3cb33ba0",
   "metadata": {},
   "outputs": [],
   "source": [
    "m1 = Magazine()\n",
    "m2 = Magazine()\n",
    "\n",
    "c1 = Comic()\n",
    "c2 = Comic()"
   ]
  },
  {
   "cell_type": "markdown",
   "id": "ccbbaaa7",
   "metadata": {},
   "source": [
    "Using the `type()` function, we can inspect object type:"
   ]
  },
  {
   "cell_type": "code",
   "execution_count": 3,
   "id": "d173ed3e",
   "metadata": {},
   "outputs": [
    {
     "name": "stdout",
     "output_type": "stream",
     "text": [
      "<class '__main__.Magazine'>\n",
      "<class '__main__.Comic'>\n"
     ]
    }
   ],
   "source": [
    "print(type(m1))\n",
    "print(type(c1))"
   ]
  },
  {
   "cell_type": "markdown",
   "id": "9a9e2ed8",
   "metadata": {},
   "source": [
    "Similarly, we can compare these types to check equality\":"
   ]
  },
  {
   "cell_type": "code",
   "execution_count": 4,
   "id": "23c6be6f",
   "metadata": {},
   "outputs": [
    {
     "name": "stdout",
     "output_type": "stream",
     "text": [
      "True\n",
      "False\n"
     ]
    }
   ],
   "source": [
    "print(type(m1) == type(m2))\n",
    "print(type(c1) == type(m2))"
   ]
  },
  {
   "cell_type": "markdown",
   "id": "dfda3dad",
   "metadata": {},
   "source": [
    "The `isinstance()` compares a specific instance to a known type.\n",
    "\n",
    "We can see from the following example that \n",
    "\n",
    "`m1` is an instance of the class `Magazine`\n",
    "whereas `c1` is NOT an instance of the class `Magazine`."
   ]
  },
  {
   "cell_type": "code",
   "execution_count": 5,
   "id": "93a15313",
   "metadata": {},
   "outputs": [
    {
     "name": "stdout",
     "output_type": "stream",
     "text": [
      "True\n",
      "False\n"
     ]
    }
   ],
   "source": [
    "print(isinstance(m1, Magazine))\n",
    "print(isinstance(c1, Magazine))"
   ]
  },
  {
   "cell_type": "markdown",
   "id": "c9069cb3",
   "metadata": {},
   "source": [
    "We can also compare using `object`, if declared returns `True`."
   ]
  },
  {
   "cell_type": "code",
   "execution_count": 6,
   "id": "0921d204",
   "metadata": {},
   "outputs": [
    {
     "name": "stdout",
     "output_type": "stream",
     "text": [
      "True\n"
     ]
    }
   ],
   "source": [
    "print(isinstance(c1, object))"
   ]
  }
 ],
 "metadata": {
  "kernelspec": {
   "display_name": "Python 3 (ipykernel)",
   "language": "python",
   "name": "python3"
  },
  "language_info": {
   "codemirror_mode": {
    "name": "ipython",
    "version": 3
   },
   "file_extension": ".py",
   "mimetype": "text/x-python",
   "name": "python",
   "nbconvert_exporter": "python",
   "pygments_lexer": "ipython3",
   "version": "3.10.4"
  }
 },
 "nbformat": 4,
 "nbformat_minor": 5
}
