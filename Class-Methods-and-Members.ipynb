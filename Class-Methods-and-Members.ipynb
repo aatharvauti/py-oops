{
 "cells": [
  {
   "cell_type": "markdown",
   "id": "026a0671",
   "metadata": {},
   "source": [
    "### Class Methods and Members \n",
    "\n",
    "---\n",
    "\n",
    "Properties defined at the class level are shared by all instances (and are generally UPPERCASE)\n",
    "\n",
    "\n",
    "#### Class method vs Static Method\n",
    "\n",
    "- A class method takes `cls` as the first parameter while a static method needs no specific parameters.\n",
    "- A class method can access or modify the class state while a static method can’t access or modify it.\n",
    "- In general, static methods know nothing about the class state. They are utility-type methods that take some parameters and work upon those parameters. On the other hand class methods must have class as a parameter.\n",
    "\n",
    "\n",
    "#### When to use what?\n",
    "\n",
    "- We generally use class method to create factory methods. Factory methods return class objects (similar to a constructor) for different use cases.\n",
    "- We generally use static methods to create utility functions."
   ]
  },
  {
   "cell_type": "code",
   "execution_count": 1,
   "id": "1381c4a4",
   "metadata": {},
   "outputs": [],
   "source": [
    "class Book:\n",
    "    \n",
    "    BOOK_TYPES = (\"HARDCOVER\", \"PAPERBACK\", \"EBOOK\")\n",
    "    \n",
    "    __booklist = None\n",
    "    \n",
    "    def __init__(self, title, booktype):\n",
    "        self.title = title\n",
    "        \n",
    "        # checks for valid booktypes first\n",
    "        if (not booktype in Book.BOOK_TYPES):\n",
    "            raise ValueError(f\"{booktype} is not a valid book type\")\n",
    "        else:\n",
    "            self.booktype = booktype\n",
    "            \n",
    "    # A class method to return the book type\n",
    "    \n",
    "    @classmethod\n",
    "    def getbooktypes(cls):\n",
    "        return cls.BOOK_TYPES\n",
    "    \n",
    "    # A static method to check if the list is empty (using as utility)\n",
    "    \n",
    "    @staticmethod\n",
    "    def getbooklist():\n",
    "        if Book.__booklist == None:\n",
    "            Book.__booklist = []\n",
    "        return Book.__booklist"
   ]
  },
  {
   "cell_type": "code",
   "execution_count": 2,
   "id": "75f78032",
   "metadata": {},
   "outputs": [],
   "source": [
    "b1 = Book(\"The Art of War\", \"HARDCOVER\")\n",
    "b2 = Book(\"Garfield\", \"PAPERBACK\")"
   ]
  },
  {
   "cell_type": "code",
   "execution_count": 3,
   "id": "5b95eb4c",
   "metadata": {},
   "outputs": [
    {
     "name": "stdout",
     "output_type": "stream",
     "text": [
      "Book types:  ('HARDCOVER', 'PAPERBACK', 'EBOOK')\n"
     ]
    }
   ],
   "source": [
    "print(\"Book types: \", Book.getbooktypes())"
   ]
  },
  {
   "cell_type": "code",
   "execution_count": 4,
   "id": "402b6320",
   "metadata": {},
   "outputs": [
    {
     "name": "stdout",
     "output_type": "stream",
     "text": [
      "[<__main__.Book object at 0x7fb95c706a40>, <__main__.Book object at 0x7fb95c706320>]\n"
     ]
    }
   ],
   "source": [
    "cart = Book.getbooklist()\n",
    "cart.append(b1)\n",
    "cart.append(b2)\n",
    "\n",
    "print(cart)"
   ]
  }
 ],
 "metadata": {
  "kernelspec": {
   "display_name": "Python 3 (ipykernel)",
   "language": "python",
   "name": "python3"
  },
  "language_info": {
   "codemirror_mode": {
    "name": "ipython",
    "version": 3
   },
   "file_extension": ".py",
   "mimetype": "text/x-python",
   "name": "python",
   "nbconvert_exporter": "python",
   "pygments_lexer": "ipython3",
   "version": "3.10.4"
  }
 },
 "nbformat": 4,
 "nbformat_minor": 5
}
